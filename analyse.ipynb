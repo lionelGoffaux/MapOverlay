{
 "cells": [
  {
   "cell_type": "code",
   "execution_count": 1,
   "metadata": {},
   "outputs": [],
   "source": [
    "import pandas as pd\n",
    "import numpy as np\n",
    "import matplotlib.pyplot as plt\n",
    "from scipy.optimize import curve_fit\n",
    "from scipy.stats import norm"
   ]
  },
  {
   "cell_type": "code",
   "execution_count": 2,
   "metadata": {},
   "outputs": [],
   "source": [
    "df = pd.read_csv('data.csv')"
   ]
  },
  {
   "cell_type": "code",
   "execution_count": 3,
   "metadata": {},
   "outputs": [],
   "source": [
    "mean = df.groupby(['segments', 'intersections']).mean().time\n",
    "std = df.groupby(['segments', 'intersections']).std(ddof=1).time"
   ]
  },
  {
   "cell_type": "code",
   "execution_count": 4,
   "metadata": {},
   "outputs": [
    {
     "data": {
      "text/plain": [
       "segments  intersections\n",
       "1         0                  1.624204\n",
       "2         0                  1.729992\n",
       "          1                  1.788181\n",
       "3         2                  1.983553\n",
       "          3                  2.189233\n",
       "4         3                  2.258621\n",
       "          4                  2.467372\n",
       "          5                  2.449600\n",
       "5         4                  2.549433\n",
       "45        199               10.335832\n",
       "48        216               10.495238\n",
       "63        294               11.918963\n",
       "75        629               20.603448\n",
       "442       22176            138.704248\n",
       "Name: time, dtype: float64"
      ]
     },
     "execution_count": 4,
     "metadata": {},
     "output_type": "execute_result"
    }
   ],
   "source": [
    "mean"
   ]
  },
  {
   "cell_type": "code",
   "execution_count": 5,
   "metadata": {},
   "outputs": [
    {
     "data": {
      "text/plain": [
       "segments  intersections\n",
       "1         0                0.487993\n",
       "2         0                0.467225\n",
       "          1                0.432492\n",
       "3         2                0.297811\n",
       "          3                0.400263\n",
       "4         3                0.465999\n",
       "          4                0.509878\n",
       "          5                0.510565\n",
       "5         4                0.526478\n",
       "45        199              1.180913\n",
       "48        216              1.332894\n",
       "63        294              1.610612\n",
       "75        629              2.429758\n",
       "442       22176            6.179194\n",
       "Name: time, dtype: float64"
      ]
     },
     "execution_count": 5,
     "metadata": {},
     "output_type": "execute_result"
    }
   ],
   "source": [
    "std"
   ]
  },
  {
   "cell_type": "code",
   "execution_count": 6,
   "metadata": {},
   "outputs": [],
   "source": [
    "model = lambda x, a, b, c: a*x[0]+b*x[1]+c\n",
    "n = np.array([n for n, i in mean.index])\n",
    "i = np.array([i for n, i in mean.index])\n",
    "t = mean.to_numpy()\n",
    "nlogn = n*np.log(n)\n",
    "ilogn = i*np.log(n)\n",
    "\n",
    "popt, pcov = curve_fit(model, (nlogn, ilogn), t, sigma=std, absolute_sigma=True)"
   ]
  },
  {
   "cell_type": "code",
   "execution_count": 7,
   "metadata": {},
   "outputs": [
    {
     "data": {
      "text/plain": [
       "0.999302149774734"
      ]
     },
     "execution_count": 7,
     "metadata": {},
     "output_type": "execute_result"
    }
   ],
   "source": [
    "t_predict = model((nlogn, ilogn), *popt)\n",
    "rsq = ((t_predict - t.mean())**2/std**2).sum() / ((t - t.mean())**2/std**2).sum()\n",
    "rsq"
   ]
  },
  {
   "cell_type": "code",
   "execution_count": 8,
   "metadata": {},
   "outputs": [
    {
     "data": {
      "text/plain": [
       "(0.046515656493048334, 1.5921690464794805e-05, 2.101783314916946e-31)"
      ]
     },
     "execution_count": 8,
     "metadata": {},
     "output_type": "execute_result"
    }
   ],
   "source": [
    "a, avar = popt[0], pcov[0,0]\n",
    "stat = a/(np.sqrt(avar))\n",
    "pvalue = 2*norm.cdf(-abs(stat))\n",
    "a, avar, pvalue"
   ]
  },
  {
   "cell_type": "code",
   "execution_count": 9,
   "metadata": {},
   "outputs": [
    {
     "data": {
      "text/plain": [
       "(8.697045443331355e-05, 8.869881308289724e-09, 0.35577335520032527)"
      ]
     },
     "execution_count": 9,
     "metadata": {},
     "output_type": "execute_result"
    }
   ],
   "source": [
    "b, bvar = popt[1], pcov[1,1]\n",
    "stat = b/(np.sqrt(bvar))\n",
    "pvalue = 2*norm.cdf(-abs(stat))\n",
    "b, bvar, pvalue"
   ]
  },
  {
   "cell_type": "code",
   "execution_count": 10,
   "metadata": {},
   "outputs": [
    {
     "data": {
      "text/plain": [
       "(1.9116052889719206, 0.02194075978013954, 4.1948154591682375e-38)"
      ]
     },
     "execution_count": 10,
     "metadata": {},
     "output_type": "execute_result"
    }
   ],
   "source": [
    "c, cvar = popt[2], pcov[2,2]\n",
    "stat = c/(np.sqrt(cvar))\n",
    "pvalue = 2*norm.cdf(-abs(stat))\n",
    "c, cvar, pvalue"
   ]
  }
 ],
 "metadata": {
  "kernelspec": {
   "display_name": "Python 3",
   "language": "python",
   "name": "python3"
  },
  "language_info": {
   "codemirror_mode": {
    "name": "ipython",
    "version": 3
   },
   "file_extension": ".py",
   "mimetype": "text/x-python",
   "name": "python",
   "nbconvert_exporter": "python",
   "pygments_lexer": "ipython3",
   "version": "3.8.5"
  }
 },
 "nbformat": 4,
 "nbformat_minor": 4
}
