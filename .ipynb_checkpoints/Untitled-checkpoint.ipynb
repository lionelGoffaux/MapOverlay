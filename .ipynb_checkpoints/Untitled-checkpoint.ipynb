{
 "cells": [
  {
   "cell_type": "code",
   "execution_count": 1,
   "metadata": {},
   "outputs": [],
   "source": [
    "import pandas as pd\n",
    "import numpy as np\n",
    "import matplotlib.pyplot as plt\n",
    "from scipy.optimize import curve_fit\n",
    "from scipy.stats import norm"
   ]
  },
  {
   "cell_type": "code",
   "execution_count": 2,
   "metadata": {},
   "outputs": [],
   "source": [
    "df = pd.read_csv('data.csv')"
   ]
  },
  {
   "cell_type": "code",
   "execution_count": 3,
   "metadata": {},
   "outputs": [
    {
     "data": {
      "text/html": [
       "<div>\n",
       "<style scoped>\n",
       "    .dataframe tbody tr th:only-of-type {\n",
       "        vertical-align: middle;\n",
       "    }\n",
       "\n",
       "    .dataframe tbody tr th {\n",
       "        vertical-align: top;\n",
       "    }\n",
       "\n",
       "    .dataframe thead th {\n",
       "        text-align: right;\n",
       "    }\n",
       "</style>\n",
       "<table border=\"1\" class=\"dataframe\">\n",
       "  <thead>\n",
       "    <tr style=\"text-align: right;\">\n",
       "      <th></th>\n",
       "      <th>file</th>\n",
       "      <th>segments</th>\n",
       "      <th>intersections</th>\n",
       "      <th>time</th>\n",
       "    </tr>\n",
       "  </thead>\n",
       "  <tbody>\n",
       "    <tr>\n",
       "      <th>0</th>\n",
       "      <td>problem1.txt</td>\n",
       "      <td>4</td>\n",
       "      <td>3</td>\n",
       "      <td>2</td>\n",
       "    </tr>\n",
       "    <tr>\n",
       "      <th>1</th>\n",
       "      <td>problem1.txt</td>\n",
       "      <td>4</td>\n",
       "      <td>3</td>\n",
       "      <td>2</td>\n",
       "    </tr>\n",
       "    <tr>\n",
       "      <th>2</th>\n",
       "      <td>problem2.txt</td>\n",
       "      <td>4</td>\n",
       "      <td>4</td>\n",
       "      <td>2</td>\n",
       "    </tr>\n",
       "    <tr>\n",
       "      <th>3</th>\n",
       "      <td>fichier3.txt</td>\n",
       "      <td>63</td>\n",
       "      <td>294</td>\n",
       "      <td>13</td>\n",
       "    </tr>\n",
       "    <tr>\n",
       "      <th>4</th>\n",
       "      <td>problem1.txt</td>\n",
       "      <td>4</td>\n",
       "      <td>3</td>\n",
       "      <td>2</td>\n",
       "    </tr>\n",
       "  </tbody>\n",
       "</table>\n",
       "</div>"
      ],
      "text/plain": [
       "           file  segments  intersections  time\n",
       "0  problem1.txt         4              3     2\n",
       "1  problem1.txt         4              3     2\n",
       "2  problem2.txt         4              4     2\n",
       "3  fichier3.txt        63            294    13\n",
       "4  problem1.txt         4              3     2"
      ]
     },
     "execution_count": 3,
     "metadata": {},
     "output_type": "execute_result"
    }
   ],
   "source": [
    "df.head()"
   ]
  },
  {
   "cell_type": "code",
   "execution_count": 4,
   "metadata": {},
   "outputs": [],
   "source": [
    "df['square'] = df.segments**2\n",
    "df['log'] = (df.segments+df.intersections)*np.log2(df.segments)\n",
    "df['nlog'] = (df.segments)*np.log2(df.segments)"
   ]
  },
  {
   "cell_type": "code",
   "execution_count": 7,
   "metadata": {},
   "outputs": [],
   "source": [
    "mean = df.groupby('nlog').mean().time\n",
    "std = df.groupby('nlog').std(ddof=1).time"
   ]
  },
  {
   "cell_type": "code",
   "execution_count": 8,
   "metadata": {},
   "outputs": [
    {
     "name": "stdout",
     "output_type": "stream",
     "text": [
      "y=0.03449867759492163nlog(n) + 1.848\n",
      "R²=0.99931\n"
     ]
    },
    {
     "data": {
      "image/png": "[encoded data removed]",
      "text/plain": [
       "<Figure size 864x576 with 1 Axes>"
      ]
     },
     "metadata": {
      "needs_background": "light"
     },
     "output_type": "display_data"
    }
   ],
   "source": [
    "model = lambda x, a, b: a*x+b\n",
    "x = mean.index\n",
    "y = mean\n",
    "\n",
    "popt, pcov = curve_fit(model, x, y, sigma=std, absolute_sigma=True)\n",
    "y_predict = model(x, *popt)\n",
    "\n",
    "plt.figure(figsize=(12, 8))\n",
    "plt.errorbar(x, y, std, marker=\".\", linestyle = \"\")\n",
    "plt.plot(x, y_predict, '')\n",
    "plt.ylabel('time (ms)')\n",
    "plt.xlabel('nlog(n)')\n",
    "\n",
    "print(f'y={popt[0]}nlog(n) + {popt[1]:.3f}')\n",
    "r = ((y_predict - y.mean())**2/std**2).sum() / ((y - y.mean())**2/std**2).sum()\n",
    "print(f'R²={r:.5f}')"
   ]
  },
  {
   "cell_type": "code",
   "execution_count": 9,
   "metadata": {},
   "outputs": [
    {
     "data": {
      "text/plain": [
       "(0.03449867759492163, 1.8217339838949977e-06, 4.256454978154386e-144)"
      ]
     },
     "execution_count": 9,
     "metadata": {},
     "output_type": "execute_result"
    }
   ],
   "source": [
    "a, var = popt[0], pcov[0,0]\n",
    "stat = a/(np.sqrt(var))\n",
    "pvalue = 2*norm.cdf(-abs(stat))\n",
    "a, var, pvalue"
   ]
  },
  {
   "cell_type": "code",
   "execution_count": null,
   "metadata": {},
   "outputs": [],
   "source": []
  },
  {
   "cell_type": "code",
   "execution_count": 13,
   "metadata": {},
   "outputs": [],
   "source": [
    "mean = df.groupby('nlog').mean().time\n",
    "x = df.groupby('nlog').mean().segments\n",
    "std = df.groupby('nlog').std(ddof=1).time\n",
    "xp = np.linspace(x.min(), x.max(), 10000)"
   ]
  },
  {
   "cell_type": "code",
   "execution_count": 19,
   "metadata": {
    "scrolled": false
   },
   "outputs": [
    {
     "name": "stdout",
     "output_type": "stream",
     "text": [
      "t=0.03450nlog(n) + 1.84788\n"
     ]
    },
    {
     "data": {
      "image/png": "[encoded data removed]",
      "text/plain": [
       "<Figure size 864x576 with 1 Axes>"
      ]
     },
     "metadata": {
      "needs_background": "light"
     },
     "output_type": "display_data"
    }
   ],
   "source": [
    "model = lambda x, a, b: a*x+b\n",
    "#x = mean.index\n",
    "y = mean\n",
    "\n",
    "popt, pcov = curve_fit(model, mean.index, y, sigma=std, absolute_sigma=True)\n",
    "y_predict = model(xp*np.log2(xp), *popt)\n",
    "\n",
    "plt.figure(figsize=(12, 8))\n",
    "plt.errorbar(x, y, std, marker=\".\", linestyle = \"\")\n",
    "plt.plot(xp, y_predict, label=f't={popt[0]:.5f}nlog(n) + {popt[1]:.5f}')\n",
    "plt.ylabel('time (ms)')\n",
    "plt.xlabel('n')\n",
    "plt.legend(loc=\"upper left\")\n",
    "\n",
    "print(f't={popt[0]:.5f}nlog(n) + {popt[1]:.5f}')"
   ]
  },
  {
   "cell_type": "code",
   "execution_count": null,
   "metadata": {},
   "outputs": [],
   "source": []
  },
  {
   "cell_type": "code",
   "execution_count": null,
   "metadata": {},
   "outputs": [],
   "source": []
  },
  {
   "cell_type": "code",
   "execution_count": null,
   "metadata": {},
   "outputs": [],
   "source": []
  },
  {
   "cell_type": "code",
   "execution_count": 5,
   "metadata": {},
   "outputs": [
    {
     "data": {
      "text/plain": [
       "log\n",
       "0.000000           1.619718\n",
       "2.000000           1.820513\n",
       "3.000000           1.833333\n",
       "7.924813           1.961538\n",
       "9.509775           2.142857\n",
       "14.000000          2.345238\n",
       "16.000000          2.632653\n",
       "18.000000          2.508475\n",
       "20.897353          2.560606\n",
       "1340.012156       10.469697\n",
       "1474.430100       10.802817\n",
       "2133.888933       12.323529\n",
       "4385.088358       20.216667\n",
       "198764.780088    138.000000\n",
       "Name: time, dtype: float64"
      ]
     },
     "execution_count": 5,
     "metadata": {},
     "output_type": "execute_result"
    }
   ],
   "source": [
    "mean = df.groupby('log').mean().time\n",
    "mean"
   ]
  },
  {
   "cell_type": "code",
   "execution_count": 6,
   "metadata": {},
   "outputs": [
    {
     "data": {
      "text/plain": [
       "log\n",
       "0.000000         0.488911\n",
       "2.000000         0.427813\n",
       "3.000000         0.430988\n",
       "7.924813         0.277350\n",
       "9.509775         0.353094\n",
       "14.000000        0.570226\n",
       "16.000000        0.566196\n",
       "18.000000        0.504219\n",
       "20.897353        0.529987\n",
       "1340.012156      1.267580\n",
       "1474.430100      1.517702\n",
       "2133.888933      1.815696\n",
       "4385.088358      2.565030\n",
       "198764.780088    7.486098\n",
       "Name: time, dtype: float64"
      ]
     },
     "execution_count": 6,
     "metadata": {},
     "output_type": "execute_result"
    }
   ],
   "source": [
    "std = df.groupby('log').std(ddof=1).time\n",
    "std"
   ]
  },
  {
   "cell_type": "code",
   "execution_count": 7,
   "metadata": {},
   "outputs": [
    {
     "name": "stdout",
     "output_type": "stream",
     "text": [
      "y=0.0007194750469638418(n+i)log(n) + 2.327\n",
      "R²=0.986\n"
     ]
    },
    {
     "data": {
      "image/png": "[encoded data removed]",
      "text/plain": [
       "<Figure size 864x576 with 1 Axes>"
      ]
     },
     "metadata": {
      "needs_background": "light"
     },
     "output_type": "display_data"
    }
   ],
   "source": [
    "model = lambda x, a, b: a*x+b\n",
    "x = mean.index\n",
    "y = mean\n",
    "\n",
    "popt, pcov = curve_fit(model, x, y, sigma=std, absolute_sigma=True)\n",
    "y_predict = model(x, *popt)\n",
    "\n",
    "plt.figure(figsize=(12, 8))\n",
    "plt.errorbar(x, y, std, marker=\".\", linestyle = \"\")\n",
    "plt.plot(x, y_predict, '')\n",
    "\n",
    "print(f'y={popt[0]}(n+i)log(n) + {popt[1]:.3f}')\n",
    "r = ((y_predict - y.mean())**2/std**2).sum() / ((y - y.mean())**2/std**2).sum()\n",
    "print(f'R²={r:.3f}')"
   ]
  },
  {
   "cell_type": "code",
   "execution_count": 8,
   "metadata": {},
   "outputs": [
    {
     "data": {
      "text/plain": [
       "(0.0007194750469638418, 1.4075782896798741e-09, 5.766920218587378e-82)"
      ]
     },
     "execution_count": 8,
     "metadata": {},
     "output_type": "execute_result"
    }
   ],
   "source": [
    "a, var = popt[0], pcov[0,0]\n",
    "stat = a/(np.sqrt(var))\n",
    "pvalue = 2*norm.cdf(-abs(stat))\n",
    "a, var, pvalue"
   ]
  },
  {
   "cell_type": "code",
   "execution_count": 9,
   "metadata": {},
   "outputs": [
    {
     "data": {
      "text/plain": [
       "square\n",
       "1           1.619718\n",
       "4           1.827309\n",
       "9           2.055556\n",
       "16          2.468750\n",
       "25          2.560606\n",
       "2025       10.469697\n",
       "2304       10.802817\n",
       "3969       12.323529\n",
       "5625       20.216667\n",
       "195364    138.000000\n",
       "Name: time, dtype: float64"
      ]
     },
     "execution_count": 9,
     "metadata": {},
     "output_type": "execute_result"
    }
   ],
   "source": [
    "mean = df.groupby('square').mean().time\n",
    "mean"
   ]
  },
  {
   "cell_type": "code",
   "execution_count": 10,
   "metadata": {},
   "outputs": [
    {
     "data": {
      "text/plain": [
       "square\n",
       "1         0.488911\n",
       "4         0.428681\n",
       "9         0.330203\n",
       "16        0.559602\n",
       "25        0.529987\n",
       "2025      1.267580\n",
       "2304      1.517702\n",
       "3969      1.815696\n",
       "5625      2.565030\n",
       "195364    7.486098\n",
       "Name: time, dtype: float64"
      ]
     },
     "execution_count": 10,
     "metadata": {},
     "output_type": "execute_result"
    }
   ],
   "source": [
    "std = df.groupby('square').std(ddof=1).time\n",
    "std"
   ]
  },
  {
   "cell_type": "code",
   "execution_count": 11,
   "metadata": {},
   "outputs": [
    {
     "name": "stdout",
     "output_type": "stream",
     "text": [
      "y=0.000744536945860323n**2 + 2.476\n",
      "R²=0.989\n"
     ]
    },
    {
     "data": {
      "image/png": "[encoded data removed]",
      "text/plain": [
       "<Figure size 864x576 with 1 Axes>"
      ]
     },
     "metadata": {
      "needs_background": "light"
     },
     "output_type": "display_data"
    }
   ],
   "source": [
    "model = lambda x, a, b: a*x+b\n",
    "x = mean.index\n",
    "y = mean\n",
    "\n",
    "popt, pcov = curve_fit(model, x, y, sigma=std, absolute_sigma=True)\n",
    "y_predict = model(x, *popt)\n",
    "\n",
    "plt.figure(figsize=(12, 8))\n",
    "plt.errorbar(x, y, std, marker=\".\", linestyle = \"\")\n",
    "plt.plot(x, y_predict, '')\n",
    "\n",
    "print(f'y={popt[0]}n**2 + {popt[1]:.3f}')\n",
    "r = ((y_predict - y.mean())**2/std**2).sum() / ((y - y.mean())**2/std**2).sum()\n",
    "print(f'R²={r:.3f}')"
   ]
  },
  {
   "cell_type": "code",
   "execution_count": 12,
   "metadata": {},
   "outputs": [
    {
     "data": {
      "text/plain": [
       "(0.000744536945860323, 1.4427911387898863e-09, 1.507713110903548e-85)"
      ]
     },
     "execution_count": 12,
     "metadata": {},
     "output_type": "execute_result"
    }
   ],
   "source": [
    "a, var = popt[0], pcov[0,0]\n",
    "stat = a/(np.sqrt(var))\n",
    "pvalue = 2*norm.cdf(-abs(stat))\n",
    "a, var, pvalue"
   ]
  },
  {
   "cell_type": "code",
   "execution_count": null,
   "metadata": {},
   "outputs": [],
   "source": []
  }
 ],
 "metadata": {
  "kernelspec": {
   "display_name": "Python 3",
   "language": "python",
   "name": "python3"
  },
  "language_info": {
   "codemirror_mode": {
    "name": "ipython",
    "version": 3
   },
   "file_extension": ".py",
   "mimetype": "text/x-python",
   "name": "python",
   "nbconvert_exporter": "python",
   "pygments_lexer": "ipython3",
   "version": "3.8.5"
  }
 },
 "nbformat": 4,
 "nbformat_minor": 4
}
